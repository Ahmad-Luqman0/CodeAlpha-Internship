{
 "cells": [
  {
   "cell_type": "code",
   "execution_count": 1,
   "id": "4122a72d-0fca-4d5d-bf63-544b9cfb1994",
   "metadata": {},
   "outputs": [],
   "source": [
    "import requests\n",
    "import pandas as pd\n",
    "import time\n",
    "from IPython.display import clear_output\n",
    "\n",
    "API_KEY = 'AESUSCPMISYHXZN7'\n",
    "stock_symbols = ['AAPL', 'MSFT', 'GOOGL', 'AMZN']  "
   ]
  },
  {
   "cell_type": "code",
   "execution_count": 2,
   "id": "7d2bd66a-e7ba-4c0f-91a9-c35c3d74c25d",
   "metadata": {},
   "outputs": [],
   "source": [
    "def get_stock_data(symbol):\n",
    "    url = f'https://www.alphavantage.co/query?function=GLOBAL_QUOTE&symbol={symbol}&apikey={API_KEY}'\n",
    "    response = requests.get(url)\n",
    "    data = response.json()\n",
    "    \n",
    "    if 'Global Quote' in data:\n",
    "        return data['Global Quote']\n",
    "    else:\n",
    "        print(f\"Could not retrieve data for {symbol}. Response: {data}\")\n",
    "        return None\n",
    "\n",
    "def print_latest_data(symbols):\n",
    "    for symbol in symbols:\n",
    "        data = get_stock_data(symbol)\n",
    "        if data is not None:\n",
    "            print(f\"Latest data for {symbol}:\")\n",
    "            print(f\"Price: {data['05. price']}\")\n",
    "            print(f\"Volume: {data['06. volume']}\")\n",
    "            print(\"\\n\")\n",
    "\n"
   ]
  },
  {
   "cell_type": "code",
   "execution_count": 4,
   "id": "53fd66aa-0fc4-44a8-8fe3-2dc3caf1cb95",
   "metadata": {},
   "outputs": [
    {
     "name": "stdout",
     "output_type": "stream",
     "text": [
      "Latest data for AAPL:\n",
      "Price: 234.8200\n",
      "Volume: 43234278\n",
      "\n",
      "\n",
      "Latest data for MSFT:\n",
      "Price: 449.5200\n",
      "Volume: 17175679\n",
      "\n",
      "\n",
      "Latest data for GOOGL:\n",
      "Price: 183.9200\n",
      "Volume: 18290722\n",
      "\n",
      "\n",
      "Could not retrieve data for AMZN. Response: {'Information': 'Thank you for using Alpha Vantage! Our standard API rate limit is 25 requests per day. Please subscribe to any of the premium plans at https://www.alphavantage.co/premium/ to instantly remove all daily rate limits.'}\n",
      "Could not retrieve data for AAPL. Response: {'Information': 'Thank you for using Alpha Vantage! Our standard API rate limit is 25 requests per day. Please subscribe to any of the premium plans at https://www.alphavantage.co/premium/ to instantly remove all daily rate limits.'}\n",
      "Could not retrieve data for MSFT. Response: {'Information': 'Thank you for using Alpha Vantage! Our standard API rate limit is 25 requests per day. Please subscribe to any of the premium plans at https://www.alphavantage.co/premium/ to instantly remove all daily rate limits.'}\n",
      "Could not retrieve data for GOOGL. Response: {'Information': 'Thank you for using Alpha Vantage! Our standard API rate limit is 25 requests per day. Please subscribe to any of the premium plans at https://www.alphavantage.co/premium/ to instantly remove all daily rate limits.'}\n",
      "Could not retrieve data for AMZN. Response: {'Information': 'Thank you for using Alpha Vantage! Our standard API rate limit is 25 requests per day. Please subscribe to any of the premium plans at https://www.alphavantage.co/premium/ to instantly remove all daily rate limits.'}\n",
      "Stopped.\n"
     ]
    }
   ],
   "source": [
    "try:\n",
    "    while True:\n",
    "        clear_output(wait=True)\n",
    "        print_latest_data(stock_symbols)\n",
    "        time.sleep(5)\n",
    "except KeyboardInterrupt:\n",
    "    print(\"Stopped.\")"
   ]
  },
  {
   "cell_type": "code",
   "execution_count": null,
   "id": "e0fefb2c-5800-40c5-9727-ffec577e0f6c",
   "metadata": {},
   "outputs": [
    {
     "name": "stdout",
     "output_type": "stream",
     "text": [
      "\n",
      "Menu:\n",
      "1. Add stock to portfolio\n",
      "2. Remove stock from portfolio\n",
      "3. Print portfolio data\n",
      "4. Exit\n"
     ]
    },
    {
     "name": "stdout",
     "output_type": "stream",
     "text": [
      "Enter your choice:  4\n"
     ]
    },
    {
     "name": "stdout",
     "output_type": "stream",
     "text": [
      "Exiting...\n"
     ]
    }
   ],
   "source": [
    "import requests\n",
    "import pandas as pd\n",
    "import time\n",
    "\n",
    "API_KEY = 'T7M0Y488C4EBFTU1'\n",
    "portfolio = {}\n"
   ]
  },
  {
   "cell_type": "code",
   "execution_count": null,
   "id": "7819a6af-40cd-42e7-a49d-584b8f262d74",
   "metadata": {},
   "outputs": [],
   "source": [
    "\n",
    "\n",
    "def get_stock_data(symbol):\n",
    "    url = f'https://www.alphavantage.co/query?function=GLOBAL_QUOTE&symbol={symbol}&apikey={API_KEY}'\n",
    "    response = requests.get(url)\n",
    "    data = response.json()\n",
    "    \n",
    "    if 'Global Quote' in data:\n",
    "        return data['Global Quote']\n",
    "    else:\n",
    "        print(f\"Could not retrieve data for {symbol}\")\n",
    "        return None\n",
    "\n",
    "\n",
    "def add_stock(symbol):\n",
    "    if symbol not in portfolio:\n",
    "        portfolio[symbol] = {}\n",
    "        print(f\"Added {symbol} to the portfolio\")\n",
    "    else:\n",
    "        print(f\"{symbol} is already in the portfolio\")\n",
    "\n",
    "\n",
    "def remove_stock(symbol):\n",
    "    if symbol in portfolio:\n",
    "        del portfolio[symbol]\n",
    "        print(f\"Removed {symbol} from the portfolio\")\n",
    "    else:\n",
    "        print(f\"{symbol} is not in the portfolio\")\n",
    "\n",
    "\n",
    "def print_portfolio_data():\n",
    "    print(\"Portfolio Overview:\")\n",
    "    for symbol in portfolio:\n",
    "        data = get_stock_data(symbol)\n",
    "        if data is not None:\n",
    "            print(f\"{symbol}:\")\n",
    "            print(f\"Price: {data['05. price']}\")\n",
    "            print(f\"Volume: {data['06. volume']}\")\n",
    "            print(\"\\n\")\n",
    "\n"
   ]
  },
  {
   "cell_type": "code",
   "execution_count": null,
   "id": "05e2d8ff-37dd-40dc-86bb-d392dfed9d6a",
   "metadata": {},
   "outputs": [],
   "source": [
    "\n",
    "while True:\n",
    "    print(\"\\nMenu:\")\n",
    "    print(\"1. Add stock to portfolio\")\n",
    "    print(\"2. Remove stock from portfolio\")\n",
    "    print(\"3. Print portfolio data\")\n",
    "    print(\"4. Exit\")\n",
    "    \n",
    "    choice = input(\"Enter your choice: \")\n",
    "    \n",
    "    if choice == '1':\n",
    "        symbol = input(\"Enter stock symbol to add: \")\n",
    "        add_stock(symbol)\n",
    "    elif choice == '2':\n",
    "        symbol = input(\"Enter stock symbol to remove: \")\n",
    "        remove_stock(symbol)\n",
    "    elif choice == '3':\n",
    "        print_portfolio_data()\n",
    "    elif choice == '4':\n",
    "        print(\"Exiting...\")\n",
    "        break\n",
    "    else:\n",
    "        print(\"Invalid choice. Please enter a valid option.\")\n",
    "    \n",
    "    time.sleep(4) \n"
   ]
  }
 ],
 "metadata": {
  "kernelspec": {
   "display_name": "Python 3 (ipykernel)",
   "language": "python",
   "name": "python3"
  },
  "language_info": {
   "codemirror_mode": {
    "name": "ipython",
    "version": 3
   },
   "file_extension": ".py",
   "mimetype": "text/x-python",
   "name": "python",
   "nbconvert_exporter": "python",
   "pygments_lexer": "ipython3",
   "version": "3.11.9"
  }
 },
 "nbformat": 4,
 "nbformat_minor": 5
}
